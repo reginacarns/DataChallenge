{
 "cells": [
  {
   "cell_type": "markdown",
   "metadata": {},
   "source": [
    "# Research Questions\n",
    "* Q1: Are soccer referees more likley to give red cards to dark skin toned players than light skined toned players?\n",
    "* Q2: Are soccer referees from countries high in skin-tone prejudice more likely to award red cards to dark skin toned players?\n",
    "\n",
    "## Notes\n",
    "* 2053 players from England, Germany, France, & Spain in 2012-2013 season\n",
    "* 3147 referees \n",
    "* Players' skin tone was coded by two independent raters blind to the research questions (1-very light skin to 5-very dark skin)\n",
    "* Aggregated data from many online users:\n",
    "    * Implicit bias score is calculated for each country using implicit association test (IAT)\n",
    "        * higher values corresponding to faster white|good, black|bad associations\n",
    "    * Explicit bias scores were calculated using a racial thermometer task\n",
    "        * higher values corresponding to greater feelings of warmth toward whites versus blacks\n",
    "\n",
    "User playerShort as the unique identifier for player\n",
    "\n"
   ]
  },
  {
   "cell_type": "code",
   "execution_count": null,
   "metadata": {},
   "outputs": [],
   "source": []
  }
 ],
 "metadata": {
  "kernelspec": {
   "display_name": "Python 3",
   "language": "python",
   "name": "python3"
  },
  "language_info": {
   "codemirror_mode": {
    "name": "ipython",
    "version": 3
   },
   "file_extension": ".py",
   "mimetype": "text/x-python",
   "name": "python",
   "nbconvert_exporter": "python",
   "pygments_lexer": "ipython3",
   "version": "3.7.1"
  }
 },
 "nbformat": 4,
 "nbformat_minor": 2
}
